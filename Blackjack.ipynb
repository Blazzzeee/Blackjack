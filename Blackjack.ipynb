{
 "cells": [
  {
   "cell_type": "code",
   "execution_count": 22,
   "id": "6a481c13-e369-4507-a6fd-62d9b1ccf5eb",
   "metadata": {
    "tags": []
   },
   "outputs": [],
   "source": [
    "class card():\n",
    "    def __init__(self,suit,rank):\n",
    "        self.suit = suit \n",
    "        self.rank=rank\n",
    "        \n",
    "    def __str__(self):\n",
    "        return self.rank + \" of \" + self.suit\n",
    "        \n",
    "play=True"
   ]
  },
  {
   "cell_type": "code",
   "execution_count": 23,
   "id": "518314c9-b0f1-489a-9015-2e1bd6006f1a",
   "metadata": {
    "tags": []
   },
   "outputs": [],
   "source": [
    "import random \n",
    "\n",
    "suits=('Hearts','Diamonds','Spades','Clubs')\n",
    "ranks=('Two','Three','Four','Five','Six','Seven','Eight','Nine','Ten','Jack','Queen',\"King\",\"Ace\")#Ace\n",
    "\n",
    "values={'Two':2,\"Three\":3,\"Four\":4,\"Five\":5,\"Six\":6,\"Seven\":7,\"Eight\":8,\"Nine\":9,\"Ten\":10,'Jack':10,'Queen':10,\"King\":10,\"Ace\":11}\n",
    "\n"
   ]
  },
  {
   "cell_type": "code",
   "execution_count": 24,
   "id": "101fda2c-9733-48c7-a56f-00b57e676da6",
   "metadata": {},
   "outputs": [],
   "source": [
    "class deck:\n",
    "    \n",
    "    def __init__(self):\n",
    "        self.deck=[]\n",
    "        for suit in suits:\n",
    "            for rank in ranks:\n",
    "                self.deck.append(card(suit,rank))\n",
    "                \n",
    "    def __str__(self):\n",
    "        deck_comp=''\n",
    "        for card in self.deck:\n",
    "            deck_comp+= '\\n' +card.__str__()\n",
    "        return deck_comp\n",
    "    def shuffle(self):\n",
    "        random.shuffle(self.deck)\n",
    "    def deal(self):\n",
    "        _card=self.deck.pop()\n",
    "        return _card"
   ]
  },
  {
   "cell_type": "code",
   "execution_count": 25,
   "id": "b27610d2-20bb-4484-bb96-e9d098c9c78f",
   "metadata": {
    "tags": []
   },
   "outputs": [],
   "source": [
    "class hand():\n",
    "    def __init__(self):\n",
    "        self.cards=[]\n",
    "        self.value=0\n",
    "        self.aces=0\n",
    "    def add(self,card):\n",
    "        self.cards.append(card)\n",
    "        self.value+=values[card.rank]\n",
    "        if card.rank=='Ace':\n",
    "            self.aces+=1\n",
    "    def ace(self):\n",
    "        while self.value >21 and self.aces:\n",
    "            self.value-=10\n",
    "            self.aces-=1\n",
    "            "
   ]
  },
  {
   "cell_type": "code",
   "execution_count": 26,
   "id": "283a6464-65dc-4553-85be-70ad2bfeb0b2",
   "metadata": {
    "tags": []
   },
   "outputs": [],
   "source": [
    "\n",
    "def hit(deck,hand):\n",
    "    hand.add_card(deck.deal())\n",
    "    hand.ace()\n",
    "    "
   ]
  },
  {
   "cell_type": "code",
   "execution_count": 27,
   "id": "1f38f7fe-c02b-43fa-aa32-f872135fffcb",
   "metadata": {
    "tags": []
   },
   "outputs": [],
   "source": [
    "class chips:\n",
    "    def __init__(self):\n",
    "        self.total=100\n",
    "        self.bet=0\n",
    "    def win_bet(self):\n",
    "        self.total+=self.bet\n",
    "        \n",
    "    def lose_bet(self):\n",
    "        self.total -= self.bet\n",
    "        \n",
    "    "
   ]
  },
  {
   "cell_type": "code",
   "execution_count": 28,
   "id": "b745c8ba-1e82-4fc2-8701-49e4f6fd1ca6",
   "metadata": {
    "tags": []
   },
   "outputs": [],
   "source": [
    "def take_bet(chips):\n",
    "        while True:\n",
    "            try:\n",
    "                chips.bet=int(input(\"Enter bet: \"))\n",
    "            except ValueError:\n",
    "                print(\"Bet must be intger!!\")\n",
    "                \n",
    "            else:\n",
    "                if chips.bet>chips.total:\n",
    "                    print(\"Your bet cant exceed \",chips.total)\n",
    "                else:\n",
    "                    break\n",
    "                    \n"
   ]
  },
  {
   "cell_type": "code",
   "execution_count": 29,
   "id": "eabfa539-5633-4ef9-bb1d-73478a5af29b",
   "metadata": {
    "tags": []
   },
   "outputs": [],
   "source": [
    "def hit_stand():\n",
    "    global play\n",
    "    \n",
    "    \n",
    "    while True:\n",
    "        x=input(\"Hit\\stand? (H for hit / S for stand)\")\n",
    "        \n",
    "        if x[0].lower()=='h':\n",
    "            hit(deck,hand)\n",
    "            \n",
    "        elif x[0].lower()=='s':\n",
    "            print(\"Player stands dealer's turn\")\n",
    "            play=False\n",
    "            \n",
    "        else:\n",
    "            print(\"Invalid input!!!!\")\n",
    "            continue\n",
    "        break\n",
    "    "
   ]
  },
  {
   "cell_type": "code",
   "execution_count": 31,
   "id": "9c45b13f-054f-4edb-b08a-c629c05d27ec",
   "metadata": {
    "tags": []
   },
   "outputs": [],
   "source": [
    "def show_some(player,dealer):\n",
    "    print(\"\\nDealer's Hand: \")\n",
    "    print(\" <card hidden> \")\n",
    "    print(\"\",dealer.cards[1])\n",
    "    print(\"\\nPlayer's Hand: \",*player.cards,sep='\\n')\n",
    "    \n",
    "def show_all():\n",
    "        print(\"\\nDealer's Hand: \",*dealer.cards,sep='\\n')\n",
    "        print(\"Dealer's Hand =\",dealer.value)\n",
    "        print(\"\\nPlayer's Hand: \",*player.cards,sep='\\n')\n",
    "        print(\"Player's Hand =\",player.value)\n",
    "        "
   ]
  },
  {
   "cell_type": "code",
   "execution_count": null,
   "id": "f551c016-2aa4-43bb-9db3-6f08d4bf6c52",
   "metadata": {},
   "outputs": [],
   "source": []
  },
  {
   "cell_type": "code",
   "execution_count": null,
   "id": "8d7ef3a2-117e-4d7b-bfc4-420fa6aa4d51",
   "metadata": {},
   "outputs": [],
   "source": []
  },
  {
   "cell_type": "code",
   "execution_count": null,
   "id": "c71119ff-359f-4b72-86c1-1c6c5b2c83ed",
   "metadata": {},
   "outputs": [],
   "source": []
  }
 ],
 "metadata": {
  "kernelspec": {
   "display_name": "Python 3 (ipykernel)",
   "language": "python",
   "name": "python3"
  },
  "language_info": {
   "codemirror_mode": {
    "name": "ipython",
    "version": 3
   },
   "file_extension": ".py",
   "mimetype": "text/x-python",
   "name": "python",
   "nbconvert_exporter": "python",
   "pygments_lexer": "ipython3",
   "version": "3.11.5"
  }
 },
 "nbformat": 4,
 "nbformat_minor": 5
}
