{
 "cells": [
  {
   "cell_type": "code",
   "execution_count": 1,
   "id": "6a481c13-e369-4507-a6fd-62d9b1ccf5eb",
   "metadata": {
    "tags": []
   },
   "outputs": [],
   "source": [
    "class card():\n",
    "    def __init__(self,suit,value):\n",
    "        self.suit = suit \n",
    "        self.value=value \n",
    "        \n",
    "    def __str__(self):\n",
    "        return self.rank + \" of \" + self.suit\n",
    "        \n",
    "    "
   ]
  },
  {
   "cell_type": "code",
   "execution_count": 2,
   "id": "518314c9-b0f1-489a-9015-2e1bd6006f1a",
   "metadata": {
    "tags": []
   },
   "outputs": [],
   "source": [
    "import random \n",
    "\n",
    "suits=('Hearts','Diamonds','Spades','Clubs')\n",
    "ranks=('Two','Three','Four','Five','Six','Seven','Eight','Nine','Ten','Jack','Queen',\"King\")#Ace\n",
    "\n",
    "values={'Two':2,\"Three\":3,\"Four\":4,\"Five\":5,\"Six\":6,\"Seven\":7,\"Eight\":8,\"Nine\":9,\"Ten\":10,'Jack':10,'Queen':10,\"King\":10}\n",
    "\n"
   ]
  },
  {
   "cell_type": "code",
   "execution_count": 1,
   "id": "101fda2c-9733-48c7-a56f-00b57e676da6",
   "metadata": {},
   "outputs": [],
   "source": [
    "class deck:\n",
    "    \n",
    "    def __init__(self):\n",
    "        self.deck=[]\n",
    "        for suit in suits:\n",
    "            for rank in ranks:\n",
    "                self.deck.append(Card(suit,rank))\n",
    "                \n",
    "    def __str__(self):\n",
    "        deck_comp=''\n",
    "        for card in self.deck:\n",
    "            deck_comp+='\\n'+card.__str__()\n",
    "        \n",
    "        \n",
    "                "
   ]
  },
  {
   "cell_type": "code",
   "execution_count": null,
   "id": "b27610d2-20bb-4484-bb96-e9d098c9c78f",
   "metadata": {},
   "outputs": [],
   "source": []
  },
  {
   "cell_type": "code",
   "execution_count": null,
   "id": "6c2b8507-fb57-4c2b-852a-624b40d0c625",
   "metadata": {},
   "outputs": [],
   "source": []
  },
  {
   "cell_type": "code",
   "execution_count": 2,
   "id": "06938630-12b0-4969-953c-69d836881372",
   "metadata": {
    "tags": []
   },
   "outputs": [
    {
     "data": {
      "text/plain": [
       "'C:\\\\Users\\\\GEET KHURANA'"
      ]
     },
     "execution_count": 2,
     "metadata": {},
     "output_type": "execute_result"
    }
   ],
   "source": [
    "pwd\n"
   ]
  },
  {
   "cell_type": "code",
   "execution_count": null,
   "id": "eabfa539-5633-4ef9-bb1d-73478a5af29b",
   "metadata": {},
   "outputs": [],
   "source": []
  }
 ],
 "metadata": {
  "kernelspec": {
   "display_name": "Python 3 (ipykernel)",
   "language": "python",
   "name": "python3"
  },
  "language_info": {
   "codemirror_mode": {
    "name": "ipython",
    "version": 3
   },
   "file_extension": ".py",
   "mimetype": "text/x-python",
   "name": "python",
   "nbconvert_exporter": "python",
   "pygments_lexer": "ipython3",
   "version": "3.11.5"
  }
 },
 "nbformat": 4,
 "nbformat_minor": 5
}
