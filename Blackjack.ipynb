{
 "cells": [
  {
   "cell_type": "code",
   "execution_count": 33,
   "id": "6a481c13-e369-4507-a6fd-62d9b1ccf5eb",
   "metadata": {
    "tags": []
   },
   "outputs": [],
   "source": [
    "class card():\n",
    "    def __init__(self,suit,rank):\n",
    "        self.suit = suit \n",
    "        self.rank=rank\n",
    "        \n",
    "    def __str__(self):\n",
    "        return self.rank + \" of \" + self.suit\n",
    "        \n",
    "play=True"
   ]
  },
  {
   "cell_type": "code",
   "execution_count": 34,
   "id": "518314c9-b0f1-489a-9015-2e1bd6006f1a",
   "metadata": {
    "tags": []
   },
   "outputs": [],
   "source": [
    "import random \n",
    "\n",
    "suits=('Hearts','Diamonds','Spades','Clubs')\n",
    "ranks=('Two','Three','Four','Five','Six','Seven','Eight','Nine','Ten','Jack','Queen',\"King\",\"Ace\")#Ace\n",
    "\n",
    "values={'Two':2,\"Three\":3,\"Four\":4,\"Five\":5,\"Six\":6,\"Seven\":7,\"Eight\":8,\"Nine\":9,\"Ten\":10,'Jack':10,'Queen':10,\"King\":10,\"Ace\":11}\n",
    "\n"
   ]
  },
  {
   "cell_type": "code",
   "execution_count": 47,
   "id": "101fda2c-9733-48c7-a56f-00b57e676da6",
   "metadata": {},
   "outputs": [],
   "source": [
    "class deck():\n",
    "    \n",
    "    def __init__(self):\n",
    "        self.deck=[]\n",
    "        for suit in suits:\n",
    "            for rank in ranks:\n",
    "                self.deck.append(card(suit,rank))\n",
    "                \n",
    "    def __str__(self):\n",
    "        deck_comp=''\n",
    "        for card in self.deck:\n",
    "            deck_comp+= '\\n' +card.__str__()\n",
    "        return deck_comp\n",
    "    def shuffle(self):\n",
    "        random.shuffle(self.deck)\n",
    "    def deal(self):\n",
    "        _card=self.deck.pop()\n",
    "        return _card"
   ]
  },
  {
   "cell_type": "code",
   "execution_count": 48,
   "id": "b27610d2-20bb-4484-bb96-e9d098c9c78f",
   "metadata": {
    "tags": []
   },
   "outputs": [],
   "source": [
    "class hand():\n",
    "    def __init__(self):\n",
    "        self.cards=[]\n",
    "        self.value=0\n",
    "        self.aces=0\n",
    "    def add(self,card):\n",
    "        self.cards.append(card)\n",
    "        self.value+=values[card.rank]\n",
    "        if card.rank=='Ace':\n",
    "            self.aces+=1\n",
    "    def ace(self):\n",
    "        while self.value >21 and self.aces:\n",
    "            self.value-=10\n",
    "            self.aces-=1\n",
    "            "
   ]
  },
  {
   "cell_type": "code",
   "execution_count": 68,
   "id": "283a6464-65dc-4553-85be-70ad2bfeb0b2",
   "metadata": {
    "tags": []
   },
   "outputs": [],
   "source": [
    "\n",
    "def hit(deck,hand):\n",
    "    hand.add(deck1.deal())\n",
    "    hand.ace()\n",
    "    "
   ]
  },
  {
   "cell_type": "code",
   "execution_count": 69,
   "id": "1f38f7fe-c02b-43fa-aa32-f872135fffcb",
   "metadata": {
    "tags": []
   },
   "outputs": [],
   "source": [
    "class chips:\n",
    "    def __init__(self):\n",
    "        self.total=100\n",
    "        self.bet=0\n",
    "    def win_bet(self):\n",
    "        self.total+=self.bet\n",
    "        \n",
    "    def lose_bet(self):\n",
    "        self.total -= self.bet\n",
    "        \n",
    "    "
   ]
  },
  {
   "cell_type": "code",
   "execution_count": 70,
   "id": "b745c8ba-1e82-4fc2-8701-49e4f6fd1ca6",
   "metadata": {
    "tags": []
   },
   "outputs": [],
   "source": [
    "def take_bet(chips):\n",
    "        while True:\n",
    "            try:\n",
    "                chips.bet=int(input(\"Enter bet: \"))\n",
    "            except ValueError:\n",
    "                print(\"Bet must be intger!!\")\n",
    "                \n",
    "            else:\n",
    "                if chips.bet>chips.total:\n",
    "                    print(\"Your bet cant exceed \",chips.total)\n",
    "                else:\n",
    "                    break\n",
    "                    \n"
   ]
  },
  {
   "cell_type": "code",
   "execution_count": 71,
   "id": "eabfa539-5633-4ef9-bb1d-73478a5af29b",
   "metadata": {
    "tags": []
   },
   "outputs": [],
   "source": [
    "def hit_stand(deck,hand):\n",
    "    global play\n",
    "    \n",
    "    \n",
    "    while True:\n",
    "        x=input(\"Hit\\stand? (H for hit / S for stand)\")\n",
    "        \n",
    "        if x[0].lower()=='h':\n",
    "            hit(deck,hand)\n",
    "            \n",
    "        elif x[0].lower()=='s':\n",
    "            print(\"Player stands dealer's turn\")\n",
    "            play=False\n",
    "            \n",
    "        else:\n",
    "            print(\"Invalid input!!!!\")\n",
    "            continue\n",
    "        break\n",
    "    "
   ]
  },
  {
   "cell_type": "code",
   "execution_count": 75,
   "id": "9c45b13f-054f-4edb-b08a-c629c05d27ec",
   "metadata": {
    "tags": []
   },
   "outputs": [],
   "source": [
    "def show_some(player,dealer):\n",
    "    print(\"\\nDealer's Hand: \")\n",
    "    print(\" <card hidden> \")\n",
    "    print(\"\",dealer.cards[1])\n",
    "    print(\"\\nPlayer's Hand: \",*player.cards,sep='\\n')\n",
    "    \n",
    "def show_all(player,dealer):\n",
    "        print(\"\\nDealer's Hand: \",*dealer.cards,sep='\\n')\n",
    "        print(\"Dealer's Hand =\",dealer.value)\n",
    "        print(\"\\nPlayer's Hand: \",*player.cards,sep='\\n')\n",
    "        print(\"Player's Hand =\",player.value)\n",
    "        "
   ]
  },
  {
   "cell_type": "code",
   "execution_count": 76,
   "id": "f551c016-2aa4-43bb-9db3-6f08d4bf6c52",
   "metadata": {
    "tags": []
   },
   "outputs": [],
   "source": [
    "def player_busts(player,dealer,chips):\n",
    "    print(\"Player busts!\")\n",
    "    chips.lose_bet()\n",
    "\n",
    "def player_wins(player,dealer,chips):\n",
    "    print(\"Player wins!\")\n",
    "    chips.win_bet()\n",
    "\n",
    "def dealer_busts(player,dealer,chips):\n",
    "    print(\"Dealer busts!\")\n",
    "    chips.win_bet()\n",
    "    \n",
    "def dealer_wins(player,dealer,chips):\n",
    "    print(\"Dealer wins!\")\n",
    "    chips.lose_bet()\n",
    "    \n",
    "def push(player,dealer):\n",
    "    print(\"Dealer and Player tie! It's a push.\")"
   ]
  },
  {
   "cell_type": "code",
   "execution_count": null,
   "id": "8d7ef3a2-117e-4d7b-bfc4-420fa6aa4d51",
   "metadata": {
    "tags": []
   },
   "outputs": [
    {
     "name": "stdout",
     "output_type": "stream",
     "text": [
      "Welcome to BlackJack! Get as close to 21 as you can without going over!\n",
      "    Dealer hits until she reaches 17. Aces count as 1 or 11.\n"
     ]
    },
    {
     "name": "stdin",
     "output_type": "stream",
     "text": [
      "Enter bet:  5\n"
     ]
    },
    {
     "name": "stdout",
     "output_type": "stream",
     "text": [
      "\n",
      "Dealer's Hand: \n",
      " <card hidden> \n",
      " Queen of Spades\n",
      "\n",
      "Player's Hand: \n",
      "Four of Spades\n",
      "Eight of Clubs\n",
      "\n",
      "Dealer's Hand: \n",
      "Jack of Hearts\n",
      "Queen of Spades\n",
      "Dealer's Hand = 20\n",
      "\n",
      "Player's Hand: \n",
      "Four of Spades\n",
      "Eight of Clubs\n",
      "Player's Hand = 12\n",
      "Dealer wins!\n",
      "\n",
      "Player's winnings stand at 95\n"
     ]
    },
    {
     "name": "stdin",
     "output_type": "stream",
     "text": [
      "Would you like to play another hand? Enter 'y' or 'n'  y\n"
     ]
    },
    {
     "name": "stdout",
     "output_type": "stream",
     "text": [
      "Welcome to BlackJack! Get as close to 21 as you can without going over!\n",
      "    Dealer hits until she reaches 17. Aces count as 1 or 11.\n"
     ]
    },
    {
     "name": "stdin",
     "output_type": "stream",
     "text": [
      "Enter bet:  5\n"
     ]
    },
    {
     "name": "stdout",
     "output_type": "stream",
     "text": [
      "\n",
      "Dealer's Hand: \n",
      " <card hidden> \n",
      " Three of Hearts\n",
      "\n",
      "Player's Hand: \n",
      "King of Hearts\n",
      "Three of Diamonds\n"
     ]
    },
    {
     "name": "stdin",
     "output_type": "stream",
     "text": [
      "Hit\\stand? (H for hit / S for stand) h\n"
     ]
    },
    {
     "name": "stdout",
     "output_type": "stream",
     "text": [
      "\n",
      "Dealer's Hand: \n",
      " <card hidden> \n",
      " Three of Hearts\n",
      "\n",
      "Player's Hand: \n",
      "King of Hearts\n",
      "Three of Diamonds\n",
      "Eight of Diamonds\n"
     ]
    },
    {
     "name": "stdin",
     "output_type": "stream",
     "text": [
      "Hit\\stand? (H for hit / S for stand) s\n"
     ]
    },
    {
     "name": "stdout",
     "output_type": "stream",
     "text": [
      "Player stands dealer's turn\n",
      "\n",
      "Dealer's Hand: \n",
      " <card hidden> \n",
      " Three of Hearts\n",
      "\n",
      "Player's Hand: \n",
      "King of Hearts\n",
      "Three of Diamonds\n",
      "Eight of Diamonds\n",
      "\n",
      "Dealer's Hand: \n",
      "Seven of Clubs\n",
      "Three of Hearts\n",
      "Ten of Spades\n",
      "Dealer's Hand = 20\n",
      "\n",
      "Player's Hand: \n",
      "King of Hearts\n",
      "Three of Diamonds\n",
      "Eight of Diamonds\n",
      "Player's Hand = 21\n",
      "Player wins!\n",
      "\n",
      "Player's winnings stand at 105\n"
     ]
    }
   ],
   "source": [
    "while True:\n",
    "    \n",
    "    print('Welcome to BlackJack! Get as close to 21 as you can without going over!\\n\\\n",
    "    Dealer hits until she reaches 17. Aces count as 1 or 11.')\n",
    "    \n",
    "    \n",
    "    deck1 = deck()\n",
    "    deck1.shuffle()\n",
    "    \n",
    "    player_hand = hand()\n",
    "    player_hand.add(deck1.deal())\n",
    "    player_hand.add(deck1.deal())\n",
    "    \n",
    "    dealer_hand = hand()\n",
    "    dealer_hand.add(deck1.deal())\n",
    "    dealer_hand.add(deck1.deal())\n",
    "            \n",
    "   \n",
    "    player_chips = chips()    \n",
    "    \n",
    "    \n",
    "    take_bet(player_chips)\n",
    "    \n",
    "    \n",
    "    show_some(player_hand,dealer_hand)\n",
    "    \n",
    "    while play:  \n",
    "        \n",
    "        \n",
    "        hit_stand(deck,player_hand) \n",
    "        \n",
    "        \n",
    "        show_some(player_hand,dealer_hand)  \n",
    "        \n",
    "        \n",
    "        if player_hand.value > 21:\n",
    "            player_busts(player_hand,dealer_hand,player_chips)\n",
    "            break        \n",
    "\n",
    "\n",
    "    \n",
    "    if player_hand.value <= 21:\n",
    "        \n",
    "        while dealer_hand.value < 17:\n",
    "            hit(deck1,dealer_hand)    \n",
    "    \n",
    "       \n",
    "        show_all(player_hand,dealer_hand)\n",
    "        \n",
    "        \n",
    "        if dealer_hand.value > 21:\n",
    "            dealer_busts(player_hand,dealer_hand,player_chips)\n",
    "\n",
    "        elif dealer_hand.value > player_hand.value:\n",
    "            dealer_wins(player_hand,dealer_hand,player_chips)\n",
    "\n",
    "        elif dealer_hand.value < player_hand.value:\n",
    "            player_wins(player_hand,dealer_hand,player_chips)\n",
    "\n",
    "        else:\n",
    "            push(player_hand,dealer_hand)        \n",
    "    \n",
    "   \n",
    "    print(\"\\nPlayer's winnings stand at\",player_chips.total)\n",
    "    \n",
    "    \n",
    "    new_game = input(\"Would you like to play another hand? Enter 'y' or 'n' \")\n",
    "    \n",
    "    if new_game[0].lower()=='y':\n",
    "        play=True\n",
    "        continue\n",
    "    else:\n",
    "        print(\"Thanks for playing!\")\n",
    "        break"
   ]
  },
  {
   "cell_type": "code",
   "execution_count": null,
   "id": "c71119ff-359f-4b72-86c1-1c6c5b2c83ed",
   "metadata": {},
   "outputs": [],
   "source": []
  }
 ],
 "metadata": {
  "kernelspec": {
   "display_name": "Python 3 (ipykernel)",
   "language": "python",
   "name": "python3"
  },
  "language_info": {
   "codemirror_mode": {
    "name": "ipython",
    "version": 3
   },
   "file_extension": ".py",
   "mimetype": "text/x-python",
   "name": "python",
   "nbconvert_exporter": "python",
   "pygments_lexer": "ipython3",
   "version": "3.11.5"
  }
 },
 "nbformat": 4,
 "nbformat_minor": 5
}
